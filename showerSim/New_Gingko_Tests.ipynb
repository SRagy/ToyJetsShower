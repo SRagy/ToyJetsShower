{
 "cells": [
  {
   "cell_type": "code",
   "execution_count": 1,
   "metadata": {},
   "outputs": [
    {
     "name": "stdout",
     "output_type": "stream",
     "text": [
      "[pyKeOps]: Warning, no cuda detected. Switching to cpu only.\n"
     ]
    }
   ],
   "source": [
    "import pyprob\n",
    "import numpy as np\n",
    "import ot\n",
    "import torch\n",
    "import cProfile\n",
    "\n",
    "from pyprob.dis import ModelDIS\n",
    "from showerSim import invMass_ginkgo\n",
    "from torch.utils.data import DataLoader\n",
    "from pyprob.nn.dataset import OnlineDataset\n",
    "from pyprob.util import InferenceEngine\n",
    "from pyprob.util import to_tensor\n",
    "from pyprob import Model\n",
    "import math\n",
    "from pyprob.distributions import Normal\n",
    "from pyprob.distributions.delta import Delta\n",
    "\n",
    "\n",
    "import matplotlib as mpl\n",
    "import matplotlib.pyplot as plt\n",
    "from mpl_toolkits.mplot3d import Axes3D\n",
    "import matplotlib.cm as mpl_cm\n",
    "plt.ion()\n",
    "\n",
    "import sklearn as skl\n",
    "from sklearn.linear_model import LinearRegression\n",
    "\n",
    "from geomloss import SamplesLoss\n",
    "sinkhorn = SamplesLoss(loss=\"sinkhorn\", p=1, blur=.05)\n",
    "def sinkhorn_t(x,y):\n",
    "    x = to_tensor(x)\n",
    "    y = torch.stack(y)\n",
    "    return sinkhorn(x,y)\n",
    "\n",
    "def ot_dist(x,y):\n",
    "    # x = to_tensor(x)\n",
    "    # y = torch.stack(y)\n",
    "    x = np.array(x)\n",
    "    y = np.array(torch.stack(y))\n",
    "    a = ot.unif(len(x))\n",
    "    b = ot.unif(len(y))\n",
    "    Mat = ot.dist(x, y, metric='euclidean')\n",
    "    #Mat1 /= Mat1.max()\n",
    "    distance = to_tensor(ot.emd2(a,b,Mat))\n",
    "    return distance\n",
    "\n",
    "\n",
    "device = \"cpu\"\n",
    "\n",
    "from pyprob.util import set_device\n",
    "set_device(device)\n",
    "\n",
    "obs_leaves = to_tensor([[44.57652381, 26.16169856, 25.3945314 , 25.64598258],\n",
    "                           [18.2146321 , 10.70465096, 10.43553391, 10.40449709],\n",
    "                           [ 6.47106713,  4.0435395,  3.65545951,  3.48697568],\n",
    "                           [ 8.43764314,  5.51040615,  4.60990593,  4.42270416],\n",
    "                           [26.61664145, 16.55894826, 14.3357362 , 15.12215264],\n",
    "                           [ 8.62925002,  3.37121204,  5.19699   ,  6.00480461],\n",
    "                           [ 1.64291837,  0.74506775,  1.01003622,  1.05626017],\n",
    "                           [ 0.75525072,  0.3051808 ,  0.45721085,  0.51760643],\n",
    "                           [39.5749915 , 18.39638928, 24.24717939, 25.29349408],\n",
    "                           [ 4.18355659,  2.11145474,  2.82071304,  2.25221316],\n",
    "                           [ 0.82932922,  0.29842766,  0.5799056 ,  0.509021  ],\n",
    "                           [ 3.00825023,  1.36339397,  1.99203677,  1.79428211],\n",
    "                           [ 7.20024308,  4.03280868,  3.82379277,  4.57441754],\n",
    "                           [ 2.09953618,  1.28473579,  1.03554351,  1.29769683],\n",
    "                           [12.21401828,  6.76059035,  6.94920042,  7.42823701],\n",
    "                           [ 6.91438054,  3.68417135,  3.83782514,  4.41656731],\n",
    "                           [ 1.97218904,  1.01632927,  1.08008339,  1.27454585],\n",
    "                           [ 8.58164301,  5.06157833,  4.79691164,  4.99553141],\n",
    "                           [ 5.97809522,  3.26557958,  3.4253764 ,  3.64894791],\n",
    "                           [ 5.22842301,  2.94437891,  3.10292633,  3.00551074],\n",
    "                           [15.40023764,  9.10884407,  8.93836964,  8.61970667],\n",
    "                           [ 1.96101346,  1.24996337,  1.06923988,  1.06743143],\n",
    "                           [19.81054106, 11.90268453, 11.60989346, 10.76953856],\n",
    "                           [18.79470876, 11.429855  , 10.8377334 , 10.25112761],\n",
    "                           [25.74331932, 15.63430056, 14.83860792, 14.07189108],\n",
    "                           [ 9.98357576,  6.10090721,  5.68664128,  5.48748692],\n",
    "                           [12.34604239,  7.78770185,  6.76075998,  6.78498685],\n",
    "                           [21.24998531, 12.95180254, 11.9511704 , 11.87319933],\n",
    "                           [ 7.80693733,  4.83117128,  4.27443559,  4.39602348],\n",
    "                           [16.28983576,  9.66683929,  9.24891886,  9.28970032],\n",
    "                           [ 2.50706736,  1.53153206,  1.36060018,  1.43002765],\n",
    "                           [ 3.73938645,  2.06006639,  2.31013974,  2.09378969],\n",
    "                           [20.2174725 , 11.88622367, 12.05106468, 11.05325362],\n",
    "                           [ 9.48660008,  5.53665456,  5.54171966,  5.34966654],\n",
    "                           [ 2.65812987,  1.64102742,  1.67392209,  1.25083707]])\n",
    "\n",
    "\n",
    "QCD_mass = to_tensor(30.)\n",
    "#rate=to_tensor([QCD_rate,QCD_rate]) #Entries: [root node, every other node] decaying rates. Choose same values for a QCD jet\n",
    "jetdir = to_tensor([1.,1.,1.])\n",
    "jetP = to_tensor(400.)\n",
    "jetvec = jetP * jetdir / torch.linalg.norm(jetdir) ## Jetvec is 3-momentum. JetP is relativistic p.\n",
    "\n",
    "\n",
    "# Actual parameters\n",
    "pt_min = to_tensor(0.3**2)\n",
    "M2start = to_tensor(QCD_mass**2)\n",
    "jetM = torch.sqrt(M2start) ## Mass of initial jet\n",
    "jet4vec = torch.cat((torch.sqrt(jetP**2 + jetM**2).reshape(-1), jetvec))\n",
    "minLeaves = 1\n",
    "maxLeaves = 10000 # unachievable, to prevent rejections\n",
    "maxNTry = 100\n",
    "\n",
    "\n",
    "\n",
    "class SimulatorModelDIS(invMass_ginkgo.SimulatorModel):\n",
    "    def __init__(self, **kwargs):\n",
    "        super().__init__(**kwargs)\n",
    "\n",
    "    def dummy_bernoulli(self, jet):\n",
    "        return True\n",
    "\n",
    "    def forward(self, inputs=None):\n",
    "        assert inputs is None # Modify code if this ever not met?\n",
    "        # Sample parameter of interest from Unif(0,10) prior\n",
    "        root_rate = pyprob.sample(pyprob.distributions.Uniform(0.01, 10.),\n",
    "                                  name=\"decay_rate_parameter\")\n",
    "        decay_rate = pyprob.sample(pyprob.distributions.Uniform(0.01, 10.),\n",
    "                                   name=\"decay_rate_parameter\")\n",
    "        # Simulator code needs two decay rates for (1) root note (2) all others\n",
    "        # For now both are set to the same value\n",
    "        inputs = [root_rate, decay_rate]\n",
    "        jet = super().forward(inputs)\n",
    "        return jet\n",
    "\n",
    "# Make instance of the simulator\n",
    "simulatorginkgo = SimulatorModelDIS(jet_p=jet4vec,  # parent particle 4-vector\n",
    "                                    pt_cut=float(pt_min),  # minimum pT for resulting jet\n",
    "                                    Delta_0= M2start,  # parent particle mass squared -> needs tensor\n",
    "                                    M_hard=jetM,  # parent particle mass\n",
    "                                    minLeaves=1,  # minimum number of jet constituents\n",
    "                                    maxLeaves=10000,  # maximum number of jet constituents (a large value to stop expensive simulator runs)\n",
    "                                    suppress_output=True,\n",
    "                                    obs_leaves=obs_leaves)"
   ]
  },
  {
   "cell_type": "code",
   "execution_count": 2,
   "metadata": {},
   "outputs": [],
   "source": [
    "outputs = simulatorginkgo.forward()"
   ]
  },
  {
   "cell_type": "code",
   "execution_count": 3,
   "metadata": {},
   "outputs": [
    {
     "data": {
      "text/plain": [
       "23"
      ]
     },
     "execution_count": 3,
     "metadata": {},
     "output_type": "execute_result"
    }
   ],
   "source": [
    "len(outputs['tree'])"
   ]
  },
  {
   "cell_type": "code",
   "execution_count": 4,
   "metadata": {},
   "outputs": [
    {
     "data": {
      "text/plain": [
       "12"
      ]
     },
     "execution_count": 4,
     "metadata": {},
     "output_type": "execute_result"
    }
   ],
   "source": [
    "len(outputs['leaves'])"
   ]
  },
  {
   "cell_type": "code",
   "execution_count": 5,
   "metadata": {},
   "outputs": [
    {
     "data": {
      "text/plain": [
       "tensor([[ 1., 16.],\n",
       "        [ 2.,  9.],\n",
       "        [ 3.,  6.],\n",
       "        [ 4.,  5.],\n",
       "        [-1., -1.],\n",
       "        [-1., -1.],\n",
       "        [ 7.,  8.],\n",
       "        [-1., -1.],\n",
       "        [-1., -1.],\n",
       "        [10., 13.],\n",
       "        [11., 12.],\n",
       "        [-1., -1.],\n",
       "        [-1., -1.],\n",
       "        [14., 15.],\n",
       "        [-1., -1.],\n",
       "        [-1., -1.],\n",
       "        [17., 20.],\n",
       "        [18., 19.],\n",
       "        [-1., -1.],\n",
       "        [-1., -1.],\n",
       "        [21., 22.],\n",
       "        [-1., -1.],\n",
       "        [-1., -1.]])"
      ]
     },
     "execution_count": 5,
     "metadata": {},
     "output_type": "execute_result"
    }
   ],
   "source": [
    "outputs['tree']"
   ]
  },
  {
   "cell_type": "code",
   "execution_count": 6,
   "metadata": {},
   "outputs": [
    {
     "data": {
      "text/plain": [
       "23"
      ]
     },
     "execution_count": 6,
     "metadata": {},
     "output_type": "execute_result"
    }
   ],
   "source": [
    "len(outputs['content'])"
   ]
  },
  {
   "cell_type": "code",
   "execution_count": 2,
   "metadata": {},
   "outputs": [],
   "source": [
    "from showerSim import ginkgo_explicit"
   ]
  },
  {
   "cell_type": "code",
   "execution_count": 3,
   "metadata": {},
   "outputs": [],
   "source": [
    "simulatorginkgo2 = ginkgo_explicit.SimulatorModel(jet_p=jet4vec,  # parent particle 4-vector\n",
    "                                    control = 'all',\n",
    "                                    pt_cut=float(pt_min),  # minimum pT for resulting jet\n",
    "                                    Delta_0= M2start,  # parent particle mass squared -> needs tensor\n",
    "                                    M_hard=jetM,  # parent particle mass\n",
    "                                    minLeaves=1,  # minimum number of jet constituents\n",
    "                                    maxLeaves=20,  # maximum number of jet constituents (a large value to stop expensive simulator runs)\n",
    "                                    suppress_output=True,\n",
    "                                    obs_leaves=obs_leaves,\n",
    "                                    maxNTry=100)"
   ]
  },
  {
   "cell_type": "code",
   "execution_count": 4,
   "metadata": {},
   "outputs": [],
   "source": [
    "root_rate = pyprob.sample(pyprob.distributions.Uniform(0.001, 10.),\n",
    "                                  name=\"decay_rate_parameter\")\n",
    "decay_rate = pyprob.sample(pyprob.distributions.Uniform(0.001, 10.),\n",
    "                                   name=\"decay_rate_parameter\")\n",
    "\n",
    "other_rates = [pyprob.sample(pyprob.distributions.Uniform(0.001,1)) for _ in range(12)]\n",
    "\n",
    "all_rates = [9 , 9]+other_rates\n"
   ]
  },
  {
   "cell_type": "code",
   "execution_count": 5,
   "metadata": {},
   "outputs": [
    {
     "name": "stdout",
     "output_type": "stream",
     "text": [
      "25\n",
      "20\n",
      "26\n",
      "20\n",
      "21\n",
      "21\n",
      "25\n",
      "22\n",
      "23\n",
      "20\n",
      "22\n",
      "21\n",
      "23\n",
      "26\n",
      "22\n",
      "21\n",
      "24\n",
      "20\n",
      "21\n",
      "26\n",
      "24\n",
      "26\n",
      "20\n",
      "26\n",
      "22\n",
      "25\n",
      "22\n",
      "21\n",
      "26\n",
      "30\n",
      "25\n",
      "23\n",
      "25\n",
      "22\n",
      "20\n",
      "22\n",
      "25\n",
      "23\n",
      "21\n",
      "21\n",
      "23\n",
      "25\n",
      "23\n"
     ]
    }
   ],
   "source": [
    "out1 = simulatorginkgo2(all_rates)\n",
    "out2 = simulatorginkgo2(all_rates)"
   ]
  },
  {
   "cell_type": "code",
   "execution_count": 20,
   "metadata": {},
   "outputs": [
    {
     "data": {
      "text/plain": [
       "tensor([[401.1234, 230.9401, 230.9401, 230.9401],\n",
       "        [358.9539, 209.9012, 202.7195, 208.5414],\n",
       "        [295.5461, 174.8354, 165.7785, 171.1228],\n",
       "        [ 87.2712,  51.5128,  48.8183,  50.7830],\n",
       "        [ 16.7639,   9.8412,   9.2146,   9.9628],\n",
       "        [ 70.5073,  41.6716,  39.6038,  40.8202],\n",
       "        [208.2749, 123.3226, 116.9602, 120.3398],\n",
       "        [119.3909,  70.3295,  68.1389,  68.2974],\n",
       "        [ 65.8038,  38.6919,  37.8270,  37.4457],\n",
       "        [ 53.5871,  31.6376,  30.3119,  30.8517],\n",
       "        [ 88.8840,  52.9931,  48.8213,  52.0424],\n",
       "        [ 54.1379,  32.3045,  29.8428,  31.5710],\n",
       "        [ 34.7461,  20.6886,  18.9785,  20.4714],\n",
       "        [ 63.4079,  35.0658,  36.9410,  37.4187],\n",
       "        [ 57.3849,  31.0779,  33.5034,  34.5410],\n",
       "        [ 26.3802,  14.3894,  14.6887,  16.4507],\n",
       "        [ 23.5249,  13.1653,  12.9245,  14.5882],\n",
       "        [ 15.7195,   8.8267,   8.4768,   9.8641],\n",
       "        [  7.8054,   4.3386,   4.4478,   4.7241],\n",
       "        [  2.8553,   1.2240,   1.7642,   1.8625],\n",
       "        [ 31.0047,  16.6885,  18.8147,  18.0903],\n",
       "        [  9.4322,   5.0506,   6.0830,   5.1368],\n",
       "        [ 21.5725,  11.6379,  12.7317,  12.9535],\n",
       "        [  6.0230,   3.9879,   3.4376,   2.8777],\n",
       "        [  4.8137,   3.2422,   2.8151,   2.1705],\n",
       "        [  1.2093,   0.7457,   0.6225,   0.7072],\n",
       "        [ 42.1695,  21.0389,  28.2206,  22.3987],\n",
       "        [ 32.5249,  17.9687,  21.7989,  15.9212],\n",
       "        [ 19.5673,   9.9948,  13.4481,  10.0437],\n",
       "        [  9.3420,   4.3901,   6.7375,   4.7439],\n",
       "        [  2.6568,   1.1597,   1.9891,   1.3225],\n",
       "        [  6.6853,   3.2303,   4.7484,   3.4215],\n",
       "        [ 10.2252,   5.6048,   6.7106,   5.2998],\n",
       "        [ 12.9576,   7.9739,   8.3509,   5.8775],\n",
       "        [  9.6446,   3.0702,   6.4217,   6.4775],\n",
       "        [  7.6819,   2.3714,   5.0186,   5.3103],\n",
       "        [  1.9627,   0.6989,   1.4031,   1.1672]])"
      ]
     },
     "execution_count": 20,
     "metadata": {},
     "output_type": "execute_result"
    }
   ],
   "source": [
    "out1['content']"
   ]
  },
  {
   "cell_type": "code",
   "execution_count": 21,
   "metadata": {},
   "outputs": [
    {
     "data": {
      "text/plain": [
       "tensor([[ 4.0112e+02,  2.3094e+02,  2.3094e+02,  2.3094e+02],\n",
       "        [ 3.5895e+02,  2.0990e+02,  2.0272e+02,  2.0854e+02],\n",
       "        [ 2.9555e+02,  1.7484e+02,  1.6578e+02,  1.7112e+02],\n",
       "        [ 8.7271e+01,  5.1513e+01,  4.8818e+01,  5.0783e+01],\n",
       "        [ 4.4084e+01,  2.5742e+01,  2.4832e+01,  2.5770e+01],\n",
       "        [ 4.3187e+01,  2.5771e+01,  2.3986e+01,  2.5013e+01],\n",
       "        [ 2.0827e+02,  1.2332e+02,  1.1696e+02,  1.2034e+02],\n",
       "        [ 1.0447e+02,  6.1193e+01,  5.9448e+01,  6.0285e+01],\n",
       "        [ 1.8581e+01,  1.0650e+01,  1.0800e+01,  1.0729e+01],\n",
       "        [ 8.5890e+01,  5.0543e+01,  4.8648e+01,  4.9556e+01],\n",
       "        [ 1.0380e+02,  6.2129e+01,  5.7512e+01,  6.0054e+01],\n",
       "        [ 2.4386e+01,  1.4645e+01,  1.3206e+01,  1.4346e+01],\n",
       "        [ 7.9417e+01,  4.7485e+01,  4.4306e+01,  4.5708e+01],\n",
       "        [ 6.3408e+01,  3.5066e+01,  3.6941e+01,  3.7419e+01],\n",
       "        [ 3.7783e+01,  2.2211e+01,  2.0376e+01,  2.2713e+01],\n",
       "        [ 2.1354e+01,  1.3104e+01,  1.1596e+01,  1.2237e+01],\n",
       "        [ 1.6429e+01,  9.1071e+00,  8.7803e+00,  1.0475e+01],\n",
       "        [ 5.6660e+00,  3.1993e+00,  3.0250e+00,  3.5617e+00],\n",
       "        [ 1.0763e+01,  5.9079e+00,  5.7553e+00,  6.9136e+00],\n",
       "        [ 2.5625e+01,  1.2855e+01,  1.6565e+01,  1.4706e+01],\n",
       "        [ 1.0469e+01,  5.0132e+00,  6.8073e+00,  6.1716e+00],\n",
       "        [ 1.5156e+01,  7.8417e+00,  9.7576e+00,  8.5343e+00],\n",
       "        [ 9.7199e+00,  4.9917e+00,  6.2744e+00,  5.4937e+00],\n",
       "        [ 5.4359e+00,  2.8500e+00,  3.4831e+00,  3.0406e+00],\n",
       "        [ 4.2169e+01,  2.1039e+01,  2.8221e+01,  2.2399e+01],\n",
       "        [ 7.5613e+00,  2.4495e+00,  5.5794e+00,  4.0595e+00],\n",
       "        [ 3.3431e+00,  3.5207e-01,  2.6401e+00,  1.8907e+00],\n",
       "        [ 1.7381e+00, -1.1093e-01,  1.4562e+00,  9.4114e-01],\n",
       "        [ 1.6050e+00,  4.6300e-01,  1.1839e+00,  9.4953e-01],\n",
       "        [ 4.2181e+00,  2.0974e+00,  2.9393e+00,  2.1689e+00],\n",
       "        [ 3.4608e+01,  1.8589e+01,  2.2641e+01,  1.8339e+01],\n",
       "        [ 1.9121e+01,  1.0207e+01,  1.2880e+01,  9.7391e+00],\n",
       "        [ 7.1793e+00,  3.6734e+00,  4.7478e+00,  3.9322e+00],\n",
       "        [ 1.1941e+01,  6.5333e+00,  8.1323e+00,  5.8069e+00],\n",
       "        [ 1.5487e+01,  8.3828e+00,  9.7611e+00,  8.6000e+00],\n",
       "        [ 4.6251e+00,  2.3355e+00,  2.8841e+00,  2.7592e+00],\n",
       "        [ 1.0862e+01,  6.0473e+00,  6.8770e+00,  5.8408e+00]])"
      ]
     },
     "execution_count": 21,
     "metadata": {},
     "output_type": "execute_result"
    }
   ],
   "source": [
    "out2['content']"
   ]
  },
  {
   "cell_type": "code",
   "execution_count": 22,
   "metadata": {},
   "outputs": [
    {
     "data": {
      "text/plain": [
       "tensor([[ 4.0112e+02,  2.3094e+02,  2.3094e+02,  2.3094e+02],\n",
       "        [ 3.5895e+02,  2.0990e+02,  2.0272e+02,  2.0854e+02],\n",
       "        [ 2.9555e+02,  1.7484e+02,  1.6578e+02,  1.7112e+02],\n",
       "        [ 8.7271e+01,  5.1513e+01,  4.8818e+01,  5.0783e+01],\n",
       "        [ 4.4084e+01,  2.5742e+01,  2.4832e+01,  2.5770e+01],\n",
       "        [ 4.3187e+01,  2.5771e+01,  2.3986e+01,  2.5013e+01],\n",
       "        [ 2.0827e+02,  1.2332e+02,  1.1696e+02,  1.2034e+02],\n",
       "        [ 1.0447e+02,  6.1193e+01,  5.9448e+01,  6.0285e+01],\n",
       "        [ 1.8581e+01,  1.0650e+01,  1.0800e+01,  1.0729e+01],\n",
       "        [ 8.5890e+01,  5.0543e+01,  4.8648e+01,  4.9556e+01],\n",
       "        [ 1.0380e+02,  6.2129e+01,  5.7512e+01,  6.0054e+01],\n",
       "        [ 2.4386e+01,  1.4645e+01,  1.3206e+01,  1.4346e+01],\n",
       "        [ 7.9417e+01,  4.7485e+01,  4.4306e+01,  4.5708e+01],\n",
       "        [ 6.3408e+01,  3.5066e+01,  3.6941e+01,  3.7419e+01],\n",
       "        [ 3.7783e+01,  2.2211e+01,  2.0376e+01,  2.2713e+01],\n",
       "        [ 2.1354e+01,  1.3104e+01,  1.1596e+01,  1.2237e+01],\n",
       "        [ 1.6429e+01,  9.1071e+00,  8.7803e+00,  1.0475e+01],\n",
       "        [ 5.6660e+00,  3.1993e+00,  3.0250e+00,  3.5617e+00],\n",
       "        [ 1.0763e+01,  5.9079e+00,  5.7553e+00,  6.9136e+00],\n",
       "        [ 2.5625e+01,  1.2855e+01,  1.6565e+01,  1.4706e+01],\n",
       "        [ 1.0469e+01,  5.0132e+00,  6.8073e+00,  6.1716e+00],\n",
       "        [ 1.5156e+01,  7.8417e+00,  9.7576e+00,  8.5343e+00],\n",
       "        [ 9.7199e+00,  4.9917e+00,  6.2744e+00,  5.4937e+00],\n",
       "        [ 5.4359e+00,  2.8500e+00,  3.4831e+00,  3.0406e+00],\n",
       "        [ 4.2169e+01,  2.1039e+01,  2.8221e+01,  2.2399e+01],\n",
       "        [ 7.5613e+00,  2.4495e+00,  5.5794e+00,  4.0595e+00],\n",
       "        [ 3.3431e+00,  3.5207e-01,  2.6401e+00,  1.8907e+00],\n",
       "        [ 1.7381e+00, -1.1093e-01,  1.4562e+00,  9.4114e-01],\n",
       "        [ 1.6050e+00,  4.6300e-01,  1.1839e+00,  9.4953e-01],\n",
       "        [ 4.2181e+00,  2.0974e+00,  2.9393e+00,  2.1689e+00],\n",
       "        [ 3.4608e+01,  1.8589e+01,  2.2641e+01,  1.8339e+01],\n",
       "        [ 1.9121e+01,  1.0207e+01,  1.2880e+01,  9.7391e+00],\n",
       "        [ 7.1793e+00,  3.6734e+00,  4.7478e+00,  3.9322e+00],\n",
       "        [ 1.1941e+01,  6.5333e+00,  8.1323e+00,  5.8069e+00],\n",
       "        [ 1.5487e+01,  8.3828e+00,  9.7611e+00,  8.6000e+00],\n",
       "        [ 4.6251e+00,  2.3355e+00,  2.8841e+00,  2.7592e+00],\n",
       "        [ 1.0862e+01,  6.0473e+00,  6.8770e+00,  5.8408e+00]])"
      ]
     },
     "execution_count": 22,
     "metadata": {},
     "output_type": "execute_result"
    }
   ],
   "source": [
    "out2['content']"
   ]
  },
  {
   "cell_type": "code",
   "execution_count": 14,
   "metadata": {},
   "outputs": [
    {
     "data": {
      "text/plain": [
       "tensor(2.)"
      ]
     },
     "execution_count": 14,
     "metadata": {},
     "output_type": "execute_result"
    }
   ],
   "source": [
    "out2['tree'][1][0]"
   ]
  },
  {
   "cell_type": "markdown",
   "metadata": {},
   "source": [
    "## BFS"
   ]
  },
  {
   "cell_type": "code",
   "execution_count": 2,
   "metadata": {},
   "outputs": [],
   "source": [
    "from showerSim import ginkgo_breadthTrav\n",
    "\n",
    "simulatorginkgo3 = ginkgo_breadthTrav.SimulatorModel(jet_p=jet4vec,  # parent particle 4-vector\n",
    "                                    control = 'all',\n",
    "                                    pt_cut=float(pt_min),  # minimum pT for resulting jet\n",
    "                                    Delta_0= M2start,  # parent particle mass squared -> needs tensor\n",
    "                                    M_hard=jetM,  # parent particle mass\n",
    "                                    minLeaves=1,  # minimum number of jet constituents\n",
    "                                    maxLeaves=50,  # maximum number of jet constituents (a large value to stop expensive simulator runs)\n",
    "                                    suppress_output=True,\n",
    "                                    obs_leaves=obs_leaves,\n",
    "                                    maxNTry=100)"
   ]
  },
  {
   "cell_type": "code",
   "execution_count": 3,
   "metadata": {},
   "outputs": [],
   "source": [
    "root_rate = pyprob.sample(pyprob.distributions.Uniform(0.001, 10.),\n",
    "                                  name=\"decay_rate_parameter\")\n",
    "decay_rate = pyprob.sample(pyprob.distributions.Uniform(0.001, 10.),\n",
    "                                   name=\"decay_rate_parameter\")\n",
    "\n",
    "other_rates = [pyprob.sample(pyprob.distributions.Uniform(0.001,1)) for _ in range(12)]\n",
    "\n",
    "all_rates = [9 , 9]+other_rates"
   ]
  },
  {
   "cell_type": "code",
   "execution_count": 4,
   "metadata": {},
   "outputs": [],
   "source": [
    "out1 = simulatorginkgo3(all_rates)\n",
    "out2 = simulatorginkgo3(all_rates)"
   ]
  },
  {
   "cell_type": "code",
   "execution_count": 6,
   "metadata": {},
   "outputs": [
    {
     "data": {
      "text/plain": [
       "tensor([[ 3.9278e+00,  2.1584e+00,  2.3836e+00,  2.2523e+00],\n",
       "        [ 6.8623e+00,  3.9617e+00,  3.8494e+00,  4.0700e+00],\n",
       "        [ 3.2240e+01,  1.9625e+01,  1.6029e+01,  1.9931e+01],\n",
       "        [ 4.9840e+00,  2.8449e+00,  3.6420e+00,  1.8637e+00],\n",
       "        [ 1.1659e+01,  6.0431e+00,  6.0701e+00,  7.9068e+00],\n",
       "        [ 2.9644e+00,  1.7380e+00,  1.3284e+00,  1.9950e+00],\n",
       "        [ 2.6888e-01,  2.0891e-01,  1.4293e-01,  2.1669e-02],\n",
       "        [ 3.4529e+00,  2.2334e+00,  2.3354e+00,  1.2094e+00],\n",
       "        [ 7.4553e+00,  4.4857e+00,  3.8735e+00,  4.5177e+00],\n",
       "        [ 7.9990e+01,  4.6615e+01,  4.4923e+01,  4.6983e+01],\n",
       "        [ 2.1999e+01,  1.2228e+01,  1.3568e+01,  1.2260e+01],\n",
       "        [ 4.0176e+00,  2.3317e+00,  2.4602e+00,  2.1565e+00],\n",
       "        [ 2.5565e+01,  1.4949e+01,  1.6470e+01,  1.2604e+01],\n",
       "        [ 2.0925e+01,  1.1977e+01,  1.1976e+01,  1.2284e+01],\n",
       "        [ 1.1685e+01,  6.4449e+00,  6.4908e+00,  7.2665e+00],\n",
       "        [ 3.7617e+00,  1.8279e+00,  2.9082e+00,  1.5226e+00],\n",
       "        [ 1.3931e-01,  9.2245e-02,  7.8423e-02, -3.1478e-02],\n",
       "        [ 4.4196e+01,  2.5229e+01,  2.5800e+01,  2.5517e+01],\n",
       "        [ 5.8858e+01,  3.3315e+01,  3.4305e+01,  3.4315e+01],\n",
       "        [ 7.4566e+00,  4.3679e+00,  4.3420e+00,  4.2034e+00],\n",
       "        [ 1.0367e+01,  6.0774e+00,  6.3270e+00,  5.5225e+00],\n",
       "        [ 2.3610e+00,  1.2871e+00,  1.4665e+00,  1.3271e+00],\n",
       "        [ 1.3449e+01,  7.9829e+00,  7.4801e+00,  7.8213e+00],\n",
       "        [ 2.2539e+01,  1.2916e+01,  1.2691e+01,  1.3421e+01]])"
      ]
     },
     "execution_count": 6,
     "metadata": {},
     "output_type": "execute_result"
    }
   ],
   "source": [
    "out1['leaves']"
   ]
  },
  {
   "cell_type": "code",
   "execution_count": null,
   "metadata": {},
   "outputs": [],
   "source": []
  }
 ],
 "metadata": {
  "kernelspec": {
   "display_name": "Python 3.8.2 ('base')",
   "language": "python",
   "name": "python3"
  },
  "language_info": {
   "codemirror_mode": {
    "name": "ipython",
    "version": 3
   },
   "file_extension": ".py",
   "mimetype": "text/x-python",
   "name": "python",
   "nbconvert_exporter": "python",
   "pygments_lexer": "ipython3",
   "version": "3.8.2"
  },
  "orig_nbformat": 4,
  "vscode": {
   "interpreter": {
    "hash": "54cb28130e048f041bc902eb918064ee5dfd6d014adda3c003162d8edf6612f9"
   }
  }
 },
 "nbformat": 4,
 "nbformat_minor": 2
}
