{
 "cells": [
  {
   "cell_type": "code",
   "execution_count": 1,
   "metadata": {},
   "outputs": [
    {
     "name": "stdout",
     "output_type": "stream",
     "text": [
      "Cannot import dbm.gnu: No module named '_gdbm'\n"
     ]
    },
    {
     "name": "stderr",
     "output_type": "stream",
     "text": [
      "/scratch/mdd424/CGinkgo/lib/python3.7/site-packages/pyprob/util.py:332: UserWarning: Empirical distributions on disk may perform slow because GNU DBM is not available. Please install and configure gdbm library for Python for better speed.\n",
      "  warnings.warn('Empirical distributions on disk may perform slow because GNU DBM is not available. Please install and configure gdbm library for Python for better speed.')\n"
     ]
    }
   ],
   "source": [
    "import pyprob\n",
    "import numpy as np\n",
    "import torch\n",
    "\n",
    "from showerSim import invMass_ginkgo\n",
    "\n",
    "import matplotlib as mpl\n",
    "import matplotlib.pyplot as plt\n",
    "from mpl_toolkits.mplot3d import Axes3D\n",
    "import matplotlib.cm as mpl_cm\n",
    "\n",
    "import sklearn as skl\n",
    "from sklearn.linear_model import LinearRegression\n",
    "%matplotlib inline"
   ]
  },
  {
   "cell_type": "markdown",
   "metadata": {},
   "source": [
    "# Define initial conditions for the simulator"
   ]
  },
  {
   "cell_type": "code",
   "execution_count": 2,
   "metadata": {},
   "outputs": [],
   "source": [
    "jetM = 80. # parent mass -> W\n",
    "jetdir = np.array([1,1,1]) # direction\n",
    "jetP = 400. # magnitude\n",
    "jetvec = jetP * jetdir / np.linalg.norm(jetdir)\n",
    "\n",
    "jet4vec = np.concatenate(([np.sqrt(jetP**2 + jetM**2)], jetvec))"
   ]
  },
  {
   "cell_type": "markdown",
   "metadata": {},
   "source": [
    "## Define a function that takes (self, jet) and outputs True for the condition we want"
   ]
  },
  {
   "cell_type": "code",
   "execution_count": 6,
   "metadata": {},
   "outputs": [],
   "source": [
    "# Condition on the number of leaves\n",
    "def num_leaves_cut(self, jet):\n",
    "    return len(jet[\"leaves\"]) >= 27"
   ]
  },
  {
   "cell_type": "code",
   "execution_count": 5,
   "metadata": {},
   "outputs": [],
   "source": [
    "def get_subjet_pT(jet, side=\"left\"):\n",
    "    if side == \"left\":\n",
    "        subjet_left_4vec = jet[\"content\"][jet[\"tree\"][0][0]]\n",
    "        subjet_left_pT = np.sqrt(subjet_left_4vec[1]**2 + subjet_left_4vec[2]**2)\n",
    "        return subjet_left_pT\n",
    "    elif side == \"right\":\n",
    "        subjet_right_4vec = jet[\"content\"][jet[\"tree\"][0][1]]\n",
    "        subjet_right_pT= np.sqrt(subjet_right_4vec[1]**2 + subjet_right_4vec[2]**2)\n",
    "        return subjet_right_pT\n",
    "    return None"
   ]
  },
  {
   "cell_type": "code",
   "execution_count": 4,
   "metadata": {},
   "outputs": [],
   "source": [
    "def subjet_pT_cut(self, jet):\n",
    "    subjet_left_4vec = jet[\"content\"][jet[\"tree\"][0][0]]\n",
    "    subjet_right_4vec = jet[\"content\"][jet[\"tree\"][0][1]]\n",
    "    subjet_left_pT = np.sqrt(subjet_left_4vec[1]**2 + subjet_left_4vec[2]**2)\n",
    "    subjet_right_pT= np.sqrt(subjet_right_4vec[1]**2 + subjet_right_4vec[2]**2)\n",
    "    #return (275 <= subjet_left_pT <= 400) or (275 <= subjet_right_pT <= 400)\n",
    "    return (subjet_left_pT <= 40) and (270 <= subjet_right_pT)"
   ]
  },
  {
   "cell_type": "markdown",
   "metadata": {},
   "source": [
    "## Make instance of the simulator"
   ]
  },
  {
   "cell_type": "code",
   "execution_count": 7,
   "metadata": {},
   "outputs": [],
   "source": [
    "simulator = invMass_ginkgo.SimulatorModel(rate=[3, 1.5], # exponential dsitribution rate\n",
    "                                     jet_p=jet4vec,  # parent particle 4-vector\n",
    "                                     pt_cut=10.,  # minimum pT for resulting jet\n",
    "                                     Delta_0=torch.tensor(jetM**2),  # parent particle mass squared -> needs tensor\n",
    "                                     M_hard=jetM,  # parent particle mass\n",
    "                                     minLeaves=30,  # minimum number of jet constituents\n",
    "                                     maxLeaves=40,  # maximum \" \"\n",
    "                                     bool_func=num_leaves_cut,\n",
    "                                     suppress_output=True)"
   ]
  },
  {
   "cell_type": "code",
   "execution_count": 9,
   "metadata": {},
   "outputs": [],
   "source": [
    "jet = simulator()  # Make sure the forward pass works"
   ]
  },
  {
   "cell_type": "markdown",
   "metadata": {},
   "source": [
    "## Generate traces for the prior distribution"
   ]
  },
  {
   "cell_type": "code",
   "execution_count": 10,
   "metadata": {},
   "outputs": [
    {
     "name": "stdout",
     "output_type": "stream",
     "text": [
      "Time spent  | Time remain.| Progress             | Trace     | Traces/sec\n",
      "0d:00:00:55 | 0d:00:04:32 | ###----------------- |  845/5000 | 15.27       \r"
     ]
    },
    {
     "name": "stderr",
     "output_type": "stream",
     "text": [
      "/home/mdd424/ToyJetsShower/showerSim/invMass_ginkgo.py:343: RuntimeWarning: invalid value encountered in sqrt\n",
      "  P = np.sqrt(tp)/2 * np.sqrt( 1 - 2 * (t_child+t_sib)/tp + (t_child - t_sib)**2 / tp**2 )\n"
     ]
    },
    {
     "name": "stdout",
     "output_type": "stream",
     "text": [
      "0d:00:05:39 | 0d:00:00:00 | #################### | 5000/5000 | 14.72       \n"
     ]
    }
   ],
   "source": [
    "prior = simulator.prior(num_traces=5000)"
   ]
  },
  {
   "cell_type": "markdown",
   "metadata": {},
   "source": [
    "## Train the NN for inference compilation"
   ]
  },
  {
   "cell_type": "code",
   "execution_count": null,
   "metadata": {},
   "outputs": [
    {
     "name": "stdout",
     "output_type": "stream",
     "text": [
      "Continuing to train existing inference network...\n",
      "Total number of parameters: 132,008\n",
      "Train. time | Epoch| Trace     | Init. loss| Min. loss | Curr. loss| T.since min | Learn.rate| Traces/sec\n",
      "New layers, address: 186__forward___traverse___traverse_rec___traverse_..., distribution: Uniform\n",
      "New layers, address: 230__forward___traverse___traverse_rec___traverse_..., distribution: Uniform\n",
      "New layers, address: 442__forward___traverse___traverse_rec___traverse_..., distribution: TruncatedExponential\n",
      "New layers, address: 496__forward___traverse___traverse_rec___traverse_..., distribution: TruncatedExponential\n",
      "New layers, address: 186__forward___traverse___traverse_rec___traverse_..., distribution: Uniform\n",
      "New layers, address: 230__forward___traverse___traverse_rec___traverse_..., distribution: Uniform\n",
      "New layers, address: 442__forward___traverse___traverse_rec___traverse_..., distribution: TruncatedExponential\n",
      "New layers, address: 496__forward___traverse___traverse_rec___traverse_..., distribution: TruncatedExponential\n",
      "New layers, address: 186__forward___traverse___traverse_rec___traverse_..., distribution: Uniform\n",
      "New layers, address: 230__forward___traverse___traverse_rec___traverse_..., distribution: Uniform\n",
      "New layers, address: 442__forward___traverse___traverse_rec___traverse_..., distribution: TruncatedExponential\n",
      "New layers, address: 496__forward___traverse___traverse_rec___traverse_..., distribution: TruncatedExponential\n",
      "Total addresses: 164, parameters: 142,196\n",
      "------------------------------ | +2.87e+01 | \u001b[1m\u001b[32m+2.87e+01\u001b[0m | \u001b[1m\u001b[32m+2.87e+01\u001b[0m | \u001b[1m\u001b[32m0d:00:00:00\u001b[0m | +1.00e-03 | 15.2 \n"
     ]
    },
    {
     "name": "stderr",
     "output_type": "stream",
     "text": [
      "/home/mdd424/ToyJetsShower/showerSim/invMass_ginkgo.py:297: RuntimeWarning: invalid value encountered in sqrt\n",
      "  logger.debug(f\"pR inv mass from p^2 in lab  frame: {np.sqrt(pR_mu[0] ** 2 - np.linalg.norm(pR_mu[1::]) ** 2)}\")\n"
     ]
    },
    {
     "name": "stdout",
     "output_type": "stream",
     "text": [
      "------------------------------ | +2.87e+01 | \u001b[1m\u001b[32m+2.79e+01\u001b[0m | \u001b[1m\u001b[32m+2.79e+01\u001b[0m | \u001b[1m\u001b[32m0d:00:00:00\u001b[0m | +1.00e-03 | 2.2  \n",
      "New layers, address: 496__forward___traverse___traverse_rec___traverse_..., distribution: TruncatedExponential\n",
      "Total addresses: 165, parameters: 143,045\n",
      "New layers, address: 186__forward___traverse___traverse_rec___traverse_..., distribution: Uniform1.00e-03 | 2.4                            \n",
      "New layers, address: 230__forward___traverse___traverse_rec___traverse_..., distribution: Uniform\n",
      "New layers, address: 442__forward___traverse___traverse_rec___traverse_..., distribution: TruncatedExponential\n",
      "New layers, address: 496__forward___traverse___traverse_rec___traverse_..., distribution: TruncatedExponential\n",
      "Total addresses: 169, parameters: 146,441\n",
      "New layers, address: 186__forward___traverse___traverse_rec___traverse_..., distribution: Uniforme-03 | 2.4                                \n",
      "New layers, address: 230__forward___traverse___traverse_rec___traverse_..., distribution: Uniform\n",
      "New layers, address: 442__forward___traverse___traverse_rec___traverse_..., distribution: TruncatedExponential\n",
      "New layers, address: 496__forward___traverse___traverse_rec___traverse_..., distribution: TruncatedExponential\n",
      "Total addresses: 173, parameters: 149,837\n",
      "New layers, address: 186__forward___traverse___traverse_rec___traverse_..., distribution: Uniforme-03 | 2.4                                \n",
      "New layers, address: 230__forward___traverse___traverse_rec___traverse_..., distribution: Uniform\n",
      "New layers, address: 442__forward___traverse___traverse_rec___traverse_..., distribution: TruncatedExponential\n",
      "New layers, address: 496__forward___traverse___traverse_rec___traverse_..., distribution: TruncatedExponential\n",
      "New layers, address: 186__forward___traverse___traverse_rec___traverse_..., distribution: Uniform\n",
      "New layers, address: 230__forward___traverse___traverse_rec___traverse_..., distribution: Uniform\n",
      "New layers, address: 442__forward___traverse___traverse_rec___traverse_..., distribution: TruncatedExponential\n",
      "New layers, address: 496__forward___traverse___traverse_rec___traverse_..., distribution: TruncatedExponential\n",
      "New layers, address: 186__forward___traverse___traverse_rec___traverse_..., distribution: Uniform\n",
      "New layers, address: 230__forward___traverse___traverse_rec___traverse_..., distribution: Uniform\n",
      "New layers, address: 442__forward___traverse___traverse_rec___traverse_..., distribution: TruncatedExponential\n",
      "New layers, address: 496__forward___traverse___traverse_rec___traverse_..., distribution: TruncatedExponential\n",
      "New layers, address: 186__forward___traverse___traverse_rec___traverse_..., distribution: Uniform\n",
      "New layers, address: 230__forward___traverse___traverse_rec___traverse_..., distribution: Uniform\n",
      "New layers, address: 442__forward___traverse___traverse_rec___traverse_..., distribution: TruncatedExponential\n",
      "New layers, address: 496__forward___traverse___traverse_rec___traverse_..., distribution: TruncatedExponential\n",
      "Total addresses: 189, parameters: 163,421\n",
      "New layers, address: 186__forward___traverse___traverse_rec___traverse_..., distribution: Uniforme-03 | 2.5                                \n",
      "New layers, address: 230__forward___traverse___traverse_rec___traverse_..., distribution: Uniform\n",
      "New layers, address: 442__forward___traverse___traverse_rec___traverse_..., distribution: TruncatedExponential\n",
      "New layers, address: 496__forward___traverse___traverse_rec___traverse_..., distribution: TruncatedExponential\n",
      "Total addresses: 193, parameters: 166,817\n",
      "New layers, address: 442__forward___traverse___traverse_rec___traverse_..., distribution: TruncatedExponential                             \n",
      "Total addresses: 194, parameters: 167,666\n",
      "New layers, address: 496__forward___traverse___traverse_rec___traverse_..., distribution: TruncatedExponential                             \n",
      "Total addresses: 195, parameters: 168,515\n",
      "New layers, address: 186__forward___traverse___traverse_rec___traverse_..., distribution: Uniforme-03 | 2.5                                \n",
      "New layers, address: 230__forward___traverse___traverse_rec___traverse_..., distribution: Uniform\n",
      "New layers, address: 442__forward___traverse___traverse_rec___traverse_..., distribution: TruncatedExponential\n",
      "New layers, address: 496__forward___traverse___traverse_rec___traverse_..., distribution: TruncatedExponential\n",
      "Total addresses: 199, parameters: 171,911\n",
      "New layers, address: 442__forward___traverse___traverse_rec___traverse_..., distribution: TruncatedExponential00:00\u001b[0m | +1.00e-03 | 2.4  \n",
      "New layers, address: 186__forward___traverse___traverse_rec___traverse_..., distribution: Uniform\n",
      "New layers, address: 230__forward___traverse___traverse_rec___traverse_..., distribution: Uniform\n",
      "New layers, address: 442__forward___traverse___traverse_rec___traverse_..., distribution: TruncatedExponential\n",
      "New layers, address: 496__forward___traverse___traverse_rec___traverse_..., distribution: TruncatedExponential\n",
      "Total addresses: 204, parameters: 176,156\n",
      "0d:00:11:22 | 1    | 1,664     | +2.87e+01 | +2.68e+01 | \u001b[31m+2.90e+01\u001b[0m | 0d:00:00:25 | +1.00e-03 | 2.5                                \r"
     ]
    }
   ],
   "source": [
    "simulator.learn_inference_network(\n",
    "    num_traces=5000,\n",
    "    proposal_mixture_components=3,\n",
    "    observe_embeddings={'bool_func': {'dim': 32, 'depth': 3}}\n",
    ")"
   ]
  },
  {
   "cell_type": "markdown",
   "metadata": {},
   "source": [
    "## Generate traces for the posterior distribution"
   ]
  },
  {
   "cell_type": "code",
   "execution_count": null,
   "metadata": {},
   "outputs": [],
   "source": [
    "posterior = simulator.posterior(inputs=rate,\n",
    "                                num_traces=15*5000,\n",
    "                                inference_engine=pyprob.InferenceEngine.IMPORTANCE_SAMPLING_WITH_INFERENCE_NETWORK,\n",
    "                                observe={\"bool_func\": 1})"
   ]
  },
  {
   "cell_type": "markdown",
   "metadata": {},
   "source": [
    "## Investigate latent variables"
   ]
  },
  {
   "cell_type": "code",
   "execution_count": null,
   "metadata": {},
   "outputs": [],
   "source": [
    "index = 1"
   ]
  },
  {
   "cell_type": "code",
   "execution_count": null,
   "metadata": {},
   "outputs": [],
   "source": [
    "exp_prior_dist = prior.filter(lambda t: t.named_variables.get('L_decay' + str(index) + 'True') is not None)\n",
    "exp_post_dist = posterior.filter(lambda t: t.named_variables.get('L_decay' + str(index) + 'True') is not None)\n",
    "\n",
    "exp_prior_dist = exp_prior_dist.map(lambda t: t['L_decay' + str(index) + 'True'])\n",
    "exp_post_dist = exp_post_dist.map(lambda t: t['L_decay' + str(index) + 'True'])"
   ]
  },
  {
   "cell_type": "code",
   "execution_count": null,
   "metadata": {},
   "outputs": [],
   "source": [
    "w = exp_prior_dist.weights.numpy()\n",
    "print(\"Prior effective sample size:\", w.sum()**2 / (w**2).sum())\n",
    "\n",
    "w = exp_post_dist.weights.numpy()\n",
    "print(\"Posterior effective sample size:\", w.sum()**2 / (w**2).sum())"
   ]
  },
  {
   "cell_type": "code",
   "execution_count": null,
   "metadata": {},
   "outputs": [],
   "source": [
    "bins = np.linspace(0,1,35)\n",
    "\n",
    "fig = plt.figure()\n",
    "fig.set_size_inches(8,8)\n",
    "ax = fig.add_subplot(111)\n",
    "bins = np.linspace(0,1,35)\n",
    "c1,_,_ = ax.hist([x.item() for x in exp_prior_dist.values],\n",
    "                 weights=exp_prior_dist.weights.numpy(),\n",
    "                 bins=bins, alpha = 0.5, label='prior (node index '+str(index)+')', density=True);\n",
    "c2,_,_ = ax.hist([x.item() for x in exp_post_dist.values],\n",
    "                 weights=exp_post_dist.weights.numpy(),\n",
    "                 bins=bins, alpha = 0.5, label = 'posterior (node index '+str(index)+')', density=True);\n",
    "ax.legend()\n",
    "ax.set_title(\"Ginkgo + PyProb Test Conditioned on (left_subtree_pT <= 40 AND right_subtree_pT >= 270)\")\n",
    "ax.set_xlabel('Truncated Exponential Samples')\n",
    "ax.set_ylabel(\"Normalized Bin Count\")"
   ]
  },
  {
   "cell_type": "code",
   "execution_count": null,
   "metadata": {},
   "outputs": [],
   "source": []
  }
 ],
 "metadata": {
  "kernelspec": {
   "display_name": "Python [conda env:CGinkgo] *",
   "language": "python",
   "name": "conda-env-CGinkgo-py"
  },
  "language_info": {
   "codemirror_mode": {
    "name": "ipython",
    "version": 3
   },
   "file_extension": ".py",
   "mimetype": "text/x-python",
   "name": "python",
   "nbconvert_exporter": "python",
   "pygments_lexer": "ipython3",
   "version": "3.7.7"
  }
 },
 "nbformat": 4,
 "nbformat_minor": 4
}
